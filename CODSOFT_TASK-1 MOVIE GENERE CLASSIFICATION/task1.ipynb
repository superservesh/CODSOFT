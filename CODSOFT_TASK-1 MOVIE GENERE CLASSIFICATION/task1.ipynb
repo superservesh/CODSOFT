{
 "cells": [
  {
   "cell_type": "code",
   "execution_count": 3,
   "id": "4a885019-8913-4d9f-82dc-064cd620249f",
   "metadata": {},
   "outputs": [
    {
     "data": {
      "text/plain": [
       "'C:\\\\Users\\\\91785\\\\Desktop\\\\New folder (3)\\\\jupyter\\\\MOVIE GENERE CLASSIFICATION'"
      ]
     },
     "execution_count": 3,
     "metadata": {},
     "output_type": "execute_result"
    }
   ],
   "source": [
    "pwd\n"
   ]
  },
  {
   "cell_type": "code",
   "execution_count": null,
   "id": "f50140f2-6a6b-41c6-84a6-b6f79fe091bb",
   "metadata": {},
   "outputs": [],
   "source": [
    "import numpy as np\n",
    "import pandas as pd\n",
    "import seaborn as sns\n",
    "import matplotlib.pyplot as plt\n",
    "from sklearn.feature_extraction.text import TfidfVectorizer\n",
    "from sklearn.model_selection import train_test_split\n",
    "from sklearn.naive_bayes import MultinomialNB\n",
    "from sklearn.metrics import accuracy_score, confusion_matrix, classification_report,r2_score\n",
    "from sklearn.preprocessing import LabelEncoder\n",
    "from sklearn.linear_model import LogisticRegression\n"
   ]
  },
  {
   "cell_type": "code",
   "execution_count": 14,
   "id": "a2368370-ff0b-4f07-ad2d-e8ce11731a9a",
   "metadata": {},
   "outputs": [],
   "source": [
    "df_test = pd.read_csv('C:\\\\Users\\\\91785\\\\Desktop\\\\New folder (3)\\\\jupyter\\\\test_data.txt', sep=\":::\", header = 0 , engine = 'python')\n",
    "df_train = pd.read_csv('C:\\\\Users\\\\91785\\\\Desktop\\\\New folder (3)\\\\jupyter\\\\train_data.txt', sep=\":::\", header = 0 , engine = 'python')\n",
    "df_train.columns = ['SN', 'movie_name', 'category', 'confession']\n",
    "df_test.columns = ['SN', 'movie_name' , 'confession']"
   ]
  },
  {
   "cell_type": "code",
   "execution_count": 15,
   "id": "79b5d95a-30c4-4f81-a591-2b8fdb8c344f",
   "metadata": {},
   "outputs": [
    {
     "data": {
      "text/html": [
       "<div>\n",
       "<style scoped>\n",
       "    .dataframe tbody tr th:only-of-type {\n",
       "        vertical-align: middle;\n",
       "    }\n",
       "\n",
       "    .dataframe tbody tr th {\n",
       "        vertical-align: top;\n",
       "    }\n",
       "\n",
       "    .dataframe thead th {\n",
       "        text-align: right;\n",
       "    }\n",
       "</style>\n",
       "<table border=\"1\" class=\"dataframe\">\n",
       "  <thead>\n",
       "    <tr style=\"text-align: right;\">\n",
       "      <th></th>\n",
       "      <th>SN</th>\n",
       "      <th>movie_name</th>\n",
       "      <th>confession</th>\n",
       "    </tr>\n",
       "  </thead>\n",
       "  <tbody>\n",
       "    <tr>\n",
       "      <th>0</th>\n",
       "      <td>2</td>\n",
       "      <td>La guerra de papá (1977)</td>\n",
       "      <td>Spain, March 1964: Quico is a very naughty ch...</td>\n",
       "    </tr>\n",
       "    <tr>\n",
       "      <th>1</th>\n",
       "      <td>3</td>\n",
       "      <td>Off the Beaten Track (2010)</td>\n",
       "      <td>One year in the life of Albin and his family ...</td>\n",
       "    </tr>\n",
       "    <tr>\n",
       "      <th>2</th>\n",
       "      <td>4</td>\n",
       "      <td>Meu Amigo Hindu (2015)</td>\n",
       "      <td>His father has died, he hasn't spoken with hi...</td>\n",
       "    </tr>\n",
       "    <tr>\n",
       "      <th>3</th>\n",
       "      <td>5</td>\n",
       "      <td>Er nu zhai (1955)</td>\n",
       "      <td>Before he was known internationally as a mart...</td>\n",
       "    </tr>\n",
       "    <tr>\n",
       "      <th>4</th>\n",
       "      <td>6</td>\n",
       "      <td>Riddle Room (2016)</td>\n",
       "      <td>Emily Burns is being held captive in a room w...</td>\n",
       "    </tr>\n",
       "  </tbody>\n",
       "</table>\n",
       "</div>"
      ],
      "text/plain": [
       "   SN                     movie_name  \\\n",
       "0   2      La guerra de papá (1977)    \n",
       "1   3   Off the Beaten Track (2010)    \n",
       "2   4        Meu Amigo Hindu (2015)    \n",
       "3   5             Er nu zhai (1955)    \n",
       "4   6            Riddle Room (2016)    \n",
       "\n",
       "                                          confession  \n",
       "0   Spain, March 1964: Quico is a very naughty ch...  \n",
       "1   One year in the life of Albin and his family ...  \n",
       "2   His father has died, he hasn't spoken with hi...  \n",
       "3   Before he was known internationally as a mart...  \n",
       "4   Emily Burns is being held captive in a room w...  "
      ]
     },
     "execution_count": 15,
     "metadata": {},
     "output_type": "execute_result"
    }
   ],
   "source": [
    "df_test.head()\n"
   ]
  },
  {
   "cell_type": "code",
   "execution_count": 16,
   "id": "5c5fd240-ff95-4662-be66-daeeb9f7df26",
   "metadata": {},
   "outputs": [
    {
     "data": {
      "text/html": [
       "<div>\n",
       "<style scoped>\n",
       "    .dataframe tbody tr th:only-of-type {\n",
       "        vertical-align: middle;\n",
       "    }\n",
       "\n",
       "    .dataframe tbody tr th {\n",
       "        vertical-align: top;\n",
       "    }\n",
       "\n",
       "    .dataframe thead th {\n",
       "        text-align: right;\n",
       "    }\n",
       "</style>\n",
       "<table border=\"1\" class=\"dataframe\">\n",
       "  <thead>\n",
       "    <tr style=\"text-align: right;\">\n",
       "      <th></th>\n",
       "      <th>SN</th>\n",
       "      <th>movie_name</th>\n",
       "      <th>category</th>\n",
       "      <th>confession</th>\n",
       "    </tr>\n",
       "  </thead>\n",
       "  <tbody>\n",
       "    <tr>\n",
       "      <th>0</th>\n",
       "      <td>2</td>\n",
       "      <td>Cupid (1997)</td>\n",
       "      <td>thriller</td>\n",
       "      <td>A brother and sister with a past incestuous r...</td>\n",
       "    </tr>\n",
       "    <tr>\n",
       "      <th>1</th>\n",
       "      <td>3</td>\n",
       "      <td>Young, Wild and Wonderful (1980)</td>\n",
       "      <td>adult</td>\n",
       "      <td>As the bus empties the students for their fie...</td>\n",
       "    </tr>\n",
       "    <tr>\n",
       "      <th>2</th>\n",
       "      <td>4</td>\n",
       "      <td>The Secret Sin (1915)</td>\n",
       "      <td>drama</td>\n",
       "      <td>To help their unemployed father make ends mee...</td>\n",
       "    </tr>\n",
       "    <tr>\n",
       "      <th>3</th>\n",
       "      <td>5</td>\n",
       "      <td>The Unrecovered (2007)</td>\n",
       "      <td>drama</td>\n",
       "      <td>The film's title refers not only to the un-re...</td>\n",
       "    </tr>\n",
       "    <tr>\n",
       "      <th>4</th>\n",
       "      <td>6</td>\n",
       "      <td>Quality Control (2011)</td>\n",
       "      <td>documentary</td>\n",
       "      <td>Quality Control consists of a series of 16mm ...</td>\n",
       "    </tr>\n",
       "  </tbody>\n",
       "</table>\n",
       "</div>"
      ],
      "text/plain": [
       "   SN                          movie_name       category  \\\n",
       "0   2                       Cupid (1997)       thriller    \n",
       "1   3   Young, Wild and Wonderful (1980)          adult    \n",
       "2   4              The Secret Sin (1915)          drama    \n",
       "3   5             The Unrecovered (2007)          drama    \n",
       "4   6             Quality Control (2011)    documentary    \n",
       "\n",
       "                                          confession  \n",
       "0   A brother and sister with a past incestuous r...  \n",
       "1   As the bus empties the students for their fie...  \n",
       "2   To help their unemployed father make ends mee...  \n",
       "3   The film's title refers not only to the un-re...  \n",
       "4   Quality Control consists of a series of 16mm ...  "
      ]
     },
     "execution_count": 16,
     "metadata": {},
     "output_type": "execute_result"
    }
   ],
   "source": [
    "df_train.head()"
   ]
  },
  {
   "cell_type": "code",
   "execution_count": 17,
   "id": "3e06cc33-a405-452c-8098-1f94cdaddeff",
   "metadata": {},
   "outputs": [
    {
     "name": "stdout",
     "output_type": "stream",
     "text": [
      "<class 'pandas.core.frame.DataFrame'>\n",
      "RangeIndex: 54199 entries, 0 to 54198\n",
      "Data columns (total 3 columns):\n",
      " #   Column      Non-Null Count  Dtype \n",
      "---  ------      --------------  ----- \n",
      " 0   SN          54199 non-null  int64 \n",
      " 1   movie_name  54199 non-null  object\n",
      " 2   confession  54199 non-null  object\n",
      "dtypes: int64(1), object(2)\n",
      "memory usage: 1.2+ MB\n"
     ]
    }
   ],
   "source": [
    "df_test.info()"
   ]
  },
  {
   "cell_type": "code",
   "execution_count": 18,
   "id": "b5bf0b9e-5e8d-48db-a5d2-102fa0c2e5bd",
   "metadata": {},
   "outputs": [
    {
     "name": "stdout",
     "output_type": "stream",
     "text": [
      "<class 'pandas.core.frame.DataFrame'>\n",
      "RangeIndex: 54213 entries, 0 to 54212\n",
      "Data columns (total 4 columns):\n",
      " #   Column      Non-Null Count  Dtype \n",
      "---  ------      --------------  ----- \n",
      " 0   SN          54213 non-null  int64 \n",
      " 1   movie_name  54213 non-null  object\n",
      " 2   category    54213 non-null  object\n",
      " 3   confession  54213 non-null  object\n",
      "dtypes: int64(1), object(3)\n",
      "memory usage: 1.7+ MB\n"
     ]
    }
   ],
   "source": [
    "df_train.info()"
   ]
  },
  {
   "cell_type": "code",
   "execution_count": 19,
   "id": "ffdff1d1-2a32-41b2-8762-64e8cd93785c",
   "metadata": {},
   "outputs": [
    {
     "data": {
      "text/html": [
       "<div>\n",
       "<style scoped>\n",
       "    .dataframe tbody tr th:only-of-type {\n",
       "        vertical-align: middle;\n",
       "    }\n",
       "\n",
       "    .dataframe tbody tr th {\n",
       "        vertical-align: top;\n",
       "    }\n",
       "\n",
       "    .dataframe thead th {\n",
       "        text-align: right;\n",
       "    }\n",
       "</style>\n",
       "<table border=\"1\" class=\"dataframe\">\n",
       "  <thead>\n",
       "    <tr style=\"text-align: right;\">\n",
       "      <th></th>\n",
       "      <th>SN</th>\n",
       "    </tr>\n",
       "  </thead>\n",
       "  <tbody>\n",
       "    <tr>\n",
       "      <th>count</th>\n",
       "      <td>54213.000000</td>\n",
       "    </tr>\n",
       "    <tr>\n",
       "      <th>mean</th>\n",
       "      <td>27108.000000</td>\n",
       "    </tr>\n",
       "    <tr>\n",
       "      <th>std</th>\n",
       "      <td>15650.089409</td>\n",
       "    </tr>\n",
       "    <tr>\n",
       "      <th>min</th>\n",
       "      <td>2.000000</td>\n",
       "    </tr>\n",
       "    <tr>\n",
       "      <th>25%</th>\n",
       "      <td>13555.000000</td>\n",
       "    </tr>\n",
       "    <tr>\n",
       "      <th>50%</th>\n",
       "      <td>27108.000000</td>\n",
       "    </tr>\n",
       "    <tr>\n",
       "      <th>75%</th>\n",
       "      <td>40661.000000</td>\n",
       "    </tr>\n",
       "    <tr>\n",
       "      <th>max</th>\n",
       "      <td>54214.000000</td>\n",
       "    </tr>\n",
       "  </tbody>\n",
       "</table>\n",
       "</div>"
      ],
      "text/plain": [
       "                 SN\n",
       "count  54213.000000\n",
       "mean   27108.000000\n",
       "std    15650.089409\n",
       "min        2.000000\n",
       "25%    13555.000000\n",
       "50%    27108.000000\n",
       "75%    40661.000000\n",
       "max    54214.000000"
      ]
     },
     "execution_count": 19,
     "metadata": {},
     "output_type": "execute_result"
    }
   ],
   "source": [
    "df_train.describe()"
   ]
  },
  {
   "cell_type": "code",
   "execution_count": 20,
   "id": "a2ee69c0-3519-482c-89b4-5fa06c263eb0",
   "metadata": {},
   "outputs": [
    {
     "data": {
      "text/html": [
       "<div>\n",
       "<style scoped>\n",
       "    .dataframe tbody tr th:only-of-type {\n",
       "        vertical-align: middle;\n",
       "    }\n",
       "\n",
       "    .dataframe tbody tr th {\n",
       "        vertical-align: top;\n",
       "    }\n",
       "\n",
       "    .dataframe thead th {\n",
       "        text-align: right;\n",
       "    }\n",
       "</style>\n",
       "<table border=\"1\" class=\"dataframe\">\n",
       "  <thead>\n",
       "    <tr style=\"text-align: right;\">\n",
       "      <th></th>\n",
       "      <th>SN</th>\n",
       "    </tr>\n",
       "  </thead>\n",
       "  <tbody>\n",
       "    <tr>\n",
       "      <th>count</th>\n",
       "      <td>54199.000000</td>\n",
       "    </tr>\n",
       "    <tr>\n",
       "      <th>mean</th>\n",
       "      <td>27101.000000</td>\n",
       "    </tr>\n",
       "    <tr>\n",
       "      <th>std</th>\n",
       "      <td>15646.047957</td>\n",
       "    </tr>\n",
       "    <tr>\n",
       "      <th>min</th>\n",
       "      <td>2.000000</td>\n",
       "    </tr>\n",
       "    <tr>\n",
       "      <th>25%</th>\n",
       "      <td>13551.500000</td>\n",
       "    </tr>\n",
       "    <tr>\n",
       "      <th>50%</th>\n",
       "      <td>27101.000000</td>\n",
       "    </tr>\n",
       "    <tr>\n",
       "      <th>75%</th>\n",
       "      <td>40650.500000</td>\n",
       "    </tr>\n",
       "    <tr>\n",
       "      <th>max</th>\n",
       "      <td>54200.000000</td>\n",
       "    </tr>\n",
       "  </tbody>\n",
       "</table>\n",
       "</div>"
      ],
      "text/plain": [
       "                 SN\n",
       "count  54199.000000\n",
       "mean   27101.000000\n",
       "std    15646.047957\n",
       "min        2.000000\n",
       "25%    13551.500000\n",
       "50%    27101.000000\n",
       "75%    40650.500000\n",
       "max    54200.000000"
      ]
     },
     "execution_count": 20,
     "metadata": {},
     "output_type": "execute_result"
    }
   ],
   "source": [
    "df_test.describe()"
   ]
  },
  {
   "cell_type": "code",
   "execution_count": 21,
   "id": "b358e431-5cd9-4552-bbd8-9ba719659820",
   "metadata": {},
   "outputs": [
    {
     "data": {
      "text/plain": [
       "SN            0\n",
       "movie_name    0\n",
       "category      0\n",
       "confession    0\n",
       "dtype: int64"
      ]
     },
     "execution_count": 21,
     "metadata": {},
     "output_type": "execute_result"
    }
   ],
   "source": [
    "df_train.isnull().sum()"
   ]
  },
  {
   "cell_type": "code",
   "execution_count": 22,
   "id": "450d1d24-9f57-4ab3-8ba2-c39d1fcac40f",
   "metadata": {},
   "outputs": [
    {
     "data": {
      "text/plain": [
       "SN            0\n",
       "movie_name    0\n",
       "confession    0\n",
       "dtype: int64"
      ]
     },
     "execution_count": 22,
     "metadata": {},
     "output_type": "execute_result"
    }
   ],
   "source": [
    "df_test.isnull().sum()"
   ]
  },
  {
   "cell_type": "code",
   "execution_count": 23,
   "id": "357bd2cc-333d-4403-8e54-c6eb626cb8bf",
   "metadata": {},
   "outputs": [
    {
     "data": {
      "text/plain": [
       "SN            54199\n",
       "movie_name    54199\n",
       "confession    54199\n",
       "dtype: int64"
      ]
     },
     "execution_count": 23,
     "metadata": {},
     "output_type": "execute_result"
    }
   ],
   "source": [
    "df_test.count()\n"
   ]
  },
  {
   "cell_type": "code",
   "execution_count": 24,
   "id": "04a466bc-5120-455c-834f-ef3dbbb56a54",
   "metadata": {},
   "outputs": [
    {
     "data": {
      "text/plain": [
       "SN            54213\n",
       "movie_name    54213\n",
       "category      54213\n",
       "confession    54213\n",
       "dtype: int64"
      ]
     },
     "execution_count": 24,
     "metadata": {},
     "output_type": "execute_result"
    }
   ],
   "source": [
    "df_train.count()\n"
   ]
  },
  {
   "cell_type": "code",
   "execution_count": 25,
   "id": "e571ce4c-d839-4a65-a090-f192e39414e3",
   "metadata": {},
   "outputs": [
    {
     "data": {
      "text/html": [
       "<div>\n",
       "<style scoped>\n",
       "    .dataframe tbody tr th:only-of-type {\n",
       "        vertical-align: middle;\n",
       "    }\n",
       "\n",
       "    .dataframe tbody tr th {\n",
       "        vertical-align: top;\n",
       "    }\n",
       "\n",
       "    .dataframe thead th {\n",
       "        text-align: right;\n",
       "    }\n",
       "</style>\n",
       "<table border=\"1\" class=\"dataframe\">\n",
       "  <thead>\n",
       "    <tr style=\"text-align: right;\">\n",
       "      <th></th>\n",
       "      <th>SN</th>\n",
       "      <th>movie_name</th>\n",
       "      <th>category</th>\n",
       "      <th>confession</th>\n",
       "    </tr>\n",
       "  </thead>\n",
       "  <tbody>\n",
       "    <tr>\n",
       "      <th>0</th>\n",
       "      <td>2</td>\n",
       "      <td>Cupid (1997)</td>\n",
       "      <td>thriller</td>\n",
       "      <td>A brother and sister with a past incestuous r...</td>\n",
       "    </tr>\n",
       "    <tr>\n",
       "      <th>1</th>\n",
       "      <td>3</td>\n",
       "      <td>Young, Wild and Wonderful (1980)</td>\n",
       "      <td>adult</td>\n",
       "      <td>As the bus empties the students for their fie...</td>\n",
       "    </tr>\n",
       "    <tr>\n",
       "      <th>2</th>\n",
       "      <td>4</td>\n",
       "      <td>The Secret Sin (1915)</td>\n",
       "      <td>drama</td>\n",
       "      <td>To help their unemployed father make ends mee...</td>\n",
       "    </tr>\n",
       "    <tr>\n",
       "      <th>3</th>\n",
       "      <td>5</td>\n",
       "      <td>The Unrecovered (2007)</td>\n",
       "      <td>drama</td>\n",
       "      <td>The film's title refers not only to the un-re...</td>\n",
       "    </tr>\n",
       "    <tr>\n",
       "      <th>4</th>\n",
       "      <td>6</td>\n",
       "      <td>Quality Control (2011)</td>\n",
       "      <td>documentary</td>\n",
       "      <td>Quality Control consists of a series of 16mm ...</td>\n",
       "    </tr>\n",
       "  </tbody>\n",
       "</table>\n",
       "</div>"
      ],
      "text/plain": [
       "   SN                          movie_name       category  \\\n",
       "0   2                       Cupid (1997)       thriller    \n",
       "1   3   Young, Wild and Wonderful (1980)          adult    \n",
       "2   4              The Secret Sin (1915)          drama    \n",
       "3   5             The Unrecovered (2007)          drama    \n",
       "4   6             Quality Control (2011)    documentary    \n",
       "\n",
       "                                          confession  \n",
       "0   A brother and sister with a past incestuous r...  \n",
       "1   As the bus empties the students for their fie...  \n",
       "2   To help their unemployed father make ends mee...  \n",
       "3   The film's title refers not only to the un-re...  \n",
       "4   Quality Control consists of a series of 16mm ...  "
      ]
     },
     "execution_count": 25,
     "metadata": {},
     "output_type": "execute_result"
    }
   ],
   "source": [
    "df_train.iloc[0:5]"
   ]
  },
  {
   "cell_type": "code",
   "execution_count": 27,
   "id": "0a50f7ea-911c-454f-96ee-57d223a2654b",
   "metadata": {},
   "outputs": [
    {
     "data": {
      "text/plain": [
       "SN                                                            3\n",
       "movie_name                    Young, Wild and Wonderful (1980) \n",
       "category                                                 adult \n",
       "confession     As the bus empties the students for their fie...\n",
       "Name: 1, dtype: object"
      ]
     },
     "execution_count": 27,
     "metadata": {},
     "output_type": "execute_result"
    }
   ],
   "source": [
    "df_train.loc[1]"
   ]
  },
  {
   "cell_type": "code",
   "execution_count": 28,
   "id": "bfd08436-360e-4958-9c21-ecb6f22f54c5",
   "metadata": {},
   "outputs": [
    {
     "data": {
      "text/plain": [
       "(54199, 3)"
      ]
     },
     "execution_count": 28,
     "metadata": {},
     "output_type": "execute_result"
    }
   ],
   "source": [
    "df_test.shape"
   ]
  },
  {
   "cell_type": "code",
   "execution_count": 29,
   "id": "af94571b-0996-44d8-9ddd-3e7e5fd0d785",
   "metadata": {},
   "outputs": [
    {
     "data": {
      "text/plain": [
       "(54213, 4)"
      ]
     },
     "execution_count": 29,
     "metadata": {},
     "output_type": "execute_result"
    }
   ],
   "source": [
    "df_train.shape\n"
   ]
  },
  {
   "cell_type": "code",
   "execution_count": 30,
   "id": "75f7b6ef-af5b-40fd-ae0e-fb4d88510644",
   "metadata": {},
   "outputs": [
    {
     "data": {
      "image/png": "[encoded data removed]",
      "text/plain": [
       "<Figure size 1400x1000 with 1 Axes>"
      ]
     },
     "metadata": {},
     "output_type": "display_data"
    }
   ],
   "source": [
    "plt.figure(figsize=(14,10))\n",
    "sns.countplot(x='category', data=df_train)\n",
    "plt.xlabel('Movie Category')\n",
    "plt.ylabel('Count')\n",
    "plt.title('Movie Genre Plot')\n",
    "plt.xticks(rotation=90);\n",
    "plt.show()\n"
   ]
  },
  {
   "cell_type": "code",
   "execution_count": 35,
   "id": "d8c668f1-7b3c-4002-9761-676c73ddf491",
   "metadata": {},
   "outputs": [
    {
     "data": {
      "image/png": "[encoded data removed]",
      "text/plain": [
       "<Figure size 500x500 with 1 Axes>"
      ]
     },
     "metadata": {},
     "output_type": "display_data"
    }
   ],
   "source": [
    "sns.displot(df_train.category, kde =True, color = \"green\")\n",
    "plt.xticks(rotation=90);"
   ]
  },
  {
   "cell_type": "code",
   "execution_count": 34,
   "id": "5c9de23d-e66a-4ddd-8faf-4fa78c116e38",
   "metadata": {},
   "outputs": [
    {
     "data": {
      "image/png": "[encoded data removed]",
      "text/plain": [
       "<Figure size 500x500 with 1 Axes>"
      ]
     },
     "metadata": {},
     "output_type": "display_data"
    }
   ],
   "source": [
    "sns.displot(df_train.category, kde=False, color = \"red\")\n",
    "plt.xticks(rotation=90);"
   ]
  },
  {
   "cell_type": "code",
   "execution_count": 36,
   "id": "326e7d51-dc5f-4b9d-8f40-fe1f62f03197",
   "metadata": {},
   "outputs": [
    {
     "data": {
      "image/png": "[encoded data removed]",
      "text/plain": [
       "<Figure size 1400x1000 with 1 Axes>"
      ]
     },
     "metadata": {},
     "output_type": "display_data"
    }
   ],
   "source": [
    "plt.figure(figsize = (14,10))\n",
    "count1 = df_train.category.value_counts()\n",
    "sns.barplot(x = count1, y = count1.index, orient = 'h')\n",
    "plt.xlabel('Count')\n",
    "plt.ylabel('Categories')\n",
    "plt.title('Movie Genre Plot')\n",
    "plt.xticks(rotation=90)\n",
    "plt.show()\n"
   ]
  },
  {
   "cell_type": "code",
   "execution_count": 40,
   "id": "308dbe3a-51fe-42b6-94ac-5c66e4252474",
   "metadata": {},
   "outputs": [
    {
     "data": {
      "image/png": "[encoded data removed]",
      "text/plain": [
       "<Figure size 1400x1000 with 1 Axes>"
      ]
     },
     "metadata": {},
     "output_type": "display_data"
    }
   ],
   "source": [
    "plt.figure(figsize = (14,10))\n",
    "count1 = df_train.category.value_counts()\n",
    "sns.barplot(x = count1, y = count1.index, orient = 'h',color='green')\n",
    "plt.xlabel('Count', fontsize = 18, fontweight = 'bold')\n",
    "plt.ylabel('Categories', fontsize = 18, fontweight = 'bold',color='red')\n",
    "plt.title('Movie Genre Plot', fontsize = 26, fontweight = 'bold', color = 'blue')\n",
    "plt.xticks(rotation=90, fontsize = 13, fontweight = 'bold', color = 'green')\n",
    "plt.yticks(fontsize = 13, fontweight = 'bold', color = 'green')\n",
    "plt.show()\n"
   ]
  },
  {
   "cell_type": "code",
   "execution_count": 41,
   "id": "3f64cfee-c056-4feb-b574-b2d50f8d8963",
   "metadata": {},
   "outputs": [],
   "source": [
    "df_combined = pd.concat([df_train, df_test], axis = 0)"
   ]
  },
  {
   "cell_type": "code",
   "execution_count": 42,
   "id": "f2f23a0c-9559-41e8-81ff-fbcab79083c8",
   "metadata": {},
   "outputs": [
    {
     "data": {
      "text/html": [
       "<div>\n",
       "<style scoped>\n",
       "    .dataframe tbody tr th:only-of-type {\n",
       "        vertical-align: middle;\n",
       "    }\n",
       "\n",
       "    .dataframe tbody tr th {\n",
       "        vertical-align: top;\n",
       "    }\n",
       "\n",
       "    .dataframe thead th {\n",
       "        text-align: right;\n",
       "    }\n",
       "</style>\n",
       "<table border=\"1\" class=\"dataframe\">\n",
       "  <thead>\n",
       "    <tr style=\"text-align: right;\">\n",
       "      <th></th>\n",
       "      <th>SN</th>\n",
       "      <th>movie_name</th>\n",
       "      <th>category</th>\n",
       "      <th>confession</th>\n",
       "    </tr>\n",
       "  </thead>\n",
       "  <tbody>\n",
       "    <tr>\n",
       "      <th>0</th>\n",
       "      <td>2</td>\n",
       "      <td>Cupid (1997)</td>\n",
       "      <td>thriller</td>\n",
       "      <td>A brother and sister with a past incestuous r...</td>\n",
       "    </tr>\n",
       "    <tr>\n",
       "      <th>1</th>\n",
       "      <td>3</td>\n",
       "      <td>Young, Wild and Wonderful (1980)</td>\n",
       "      <td>adult</td>\n",
       "      <td>As the bus empties the students for their fie...</td>\n",
       "    </tr>\n",
       "    <tr>\n",
       "      <th>2</th>\n",
       "      <td>4</td>\n",
       "      <td>The Secret Sin (1915)</td>\n",
       "      <td>drama</td>\n",
       "      <td>To help their unemployed father make ends mee...</td>\n",
       "    </tr>\n",
       "    <tr>\n",
       "      <th>3</th>\n",
       "      <td>5</td>\n",
       "      <td>The Unrecovered (2007)</td>\n",
       "      <td>drama</td>\n",
       "      <td>The film's title refers not only to the un-re...</td>\n",
       "    </tr>\n",
       "    <tr>\n",
       "      <th>4</th>\n",
       "      <td>6</td>\n",
       "      <td>Quality Control (2011)</td>\n",
       "      <td>documentary</td>\n",
       "      <td>Quality Control consists of a series of 16mm ...</td>\n",
       "    </tr>\n",
       "  </tbody>\n",
       "</table>\n",
       "</div>"
      ],
      "text/plain": [
       "   SN                          movie_name       category  \\\n",
       "0   2                       Cupid (1997)       thriller    \n",
       "1   3   Young, Wild and Wonderful (1980)          adult    \n",
       "2   4              The Secret Sin (1915)          drama    \n",
       "3   5             The Unrecovered (2007)          drama    \n",
       "4   6             Quality Control (2011)    documentary    \n",
       "\n",
       "                                          confession  \n",
       "0   A brother and sister with a past incestuous r...  \n",
       "1   As the bus empties the students for their fie...  \n",
       "2   To help their unemployed father make ends mee...  \n",
       "3   The film's title refers not only to the un-re...  \n",
       "4   Quality Control consists of a series of 16mm ...  "
      ]
     },
     "execution_count": 42,
     "metadata": {},
     "output_type": "execute_result"
    }
   ],
   "source": [
    "df_combined.head()\n"
   ]
  },
  {
   "cell_type": "code",
   "execution_count": 43,
   "id": "68aadabd-ba43-4ddc-a54b-0ba5f6b7ef4b",
   "metadata": {},
   "outputs": [
    {
     "data": {
      "text/plain": [
       "(108412, 4)"
      ]
     },
     "execution_count": 43,
     "metadata": {},
     "output_type": "execute_result"
    }
   ],
   "source": [
    "df_combined.shape\n"
   ]
  },
  {
   "cell_type": "code",
   "execution_count": 44,
   "id": "aebfd8de-9f4b-410c-869b-6044197fa1c5",
   "metadata": {},
   "outputs": [
    {
     "data": {
      "text/plain": [
       "433648"
      ]
     },
     "execution_count": 44,
     "metadata": {},
     "output_type": "execute_result"
    }
   ],
   "source": [
    "df_combined.size"
   ]
  },
  {
   "cell_type": "code",
   "execution_count": 45,
   "id": "9c130c81-99cd-4064-8555-31c967ab8f94",
   "metadata": {},
   "outputs": [
    {
     "data": {
      "text/plain": [
       "SN            108412\n",
       "movie_name    108412\n",
       "category       54213\n",
       "confession    108412\n",
       "dtype: int64"
      ]
     },
     "execution_count": 45,
     "metadata": {},
     "output_type": "execute_result"
    }
   ],
   "source": [
    "df_combined.count()"
   ]
  },
  {
   "cell_type": "code",
   "execution_count": 50,
   "id": "6099f2ba-4264-4528-a868-9d1ae360875c",
   "metadata": {},
   "outputs": [
    {
     "data": {
      "text/plain": [
       "SN            False\n",
       "movie_name    False\n",
       "category       True\n",
       "confession    False\n",
       "dtype: bool"
      ]
     },
     "execution_count": 50,
     "metadata": {},
     "output_type": "execute_result"
    }
   ],
   "source": [
    "df_combined.isnull().any()"
   ]
  },
  {
   "cell_type": "code",
   "execution_count": 58,
   "id": "b0dc7b7d-6c97-4612-8417-85a35e3bd119",
   "metadata": {},
   "outputs": [],
   "source": [
    "from sklearn.preprocessing import LabelEncoder\n",
    "encoder = LabelEncoder()\n",
    "df_combined[\"category\"] = encoder.fit_transform(df_combined[\"category\"].values)"
   ]
  },
  {
   "cell_type": "code",
   "execution_count": 59,
   "id": "dd19dfb8-ec50-4d0d-8d3f-737520d02eb8",
   "metadata": {},
   "outputs": [],
   "source": [
    "encoder = LabelEncoder()\n",
    "df_combined[\"movie_name\"] = encoder.fit_transform(df_combined[\"movie_name\"].values)"
   ]
  },
  {
   "cell_type": "code",
   "execution_count": 62,
   "id": "43dd40fa-0367-4b3d-833c-ec85a6950353",
   "metadata": {},
   "outputs": [
    {
     "data": {
      "text/html": [
       "<div>\n",
       "<style scoped>\n",
       "    .dataframe tbody tr th:only-of-type {\n",
       "        vertical-align: middle;\n",
       "    }\n",
       "\n",
       "    .dataframe tbody tr th {\n",
       "        vertical-align: top;\n",
       "    }\n",
       "\n",
       "    .dataframe thead th {\n",
       "        text-align: right;\n",
       "    }\n",
       "</style>\n",
       "<table border=\"1\" class=\"dataframe\">\n",
       "  <thead>\n",
       "    <tr style=\"text-align: right;\">\n",
       "      <th></th>\n",
       "      <th>SN</th>\n",
       "      <th>movie_name</th>\n",
       "      <th>category</th>\n",
       "      <th>confession</th>\n",
       "    </tr>\n",
       "  </thead>\n",
       "  <tbody>\n",
       "    <tr>\n",
       "      <th>0</th>\n",
       "      <td>2</td>\n",
       "      <td>31219</td>\n",
       "      <td>24</td>\n",
       "      <td>A brother and sister with a past incestuous r...</td>\n",
       "    </tr>\n",
       "    <tr>\n",
       "      <th>1</th>\n",
       "      <td>3</td>\n",
       "      <td>107506</td>\n",
       "      <td>1</td>\n",
       "      <td>As the bus empties the students for their fie...</td>\n",
       "    </tr>\n",
       "    <tr>\n",
       "      <th>2</th>\n",
       "      <td>4</td>\n",
       "      <td>96119</td>\n",
       "      <td>8</td>\n",
       "      <td>To help their unemployed father make ends mee...</td>\n",
       "    </tr>\n",
       "    <tr>\n",
       "      <th>3</th>\n",
       "      <td>5</td>\n",
       "      <td>97557</td>\n",
       "      <td>8</td>\n",
       "      <td>The film's title refers not only to the un-re...</td>\n",
       "    </tr>\n",
       "    <tr>\n",
       "      <th>4</th>\n",
       "      <td>6</td>\n",
       "      <td>74516</td>\n",
       "      <td>7</td>\n",
       "      <td>Quality Control consists of a series of 16mm ...</td>\n",
       "    </tr>\n",
       "  </tbody>\n",
       "</table>\n",
       "</div>"
      ],
      "text/plain": [
       "   SN  movie_name  category                                         confession\n",
       "0   2       31219        24   A brother and sister with a past incestuous r...\n",
       "1   3      107506         1   As the bus empties the students for their fie...\n",
       "2   4       96119         8   To help their unemployed father make ends mee...\n",
       "3   5       97557         8   The film's title refers not only to the un-re...\n",
       "4   6       74516         7   Quality Control consists of a series of 16mm ..."
      ]
     },
     "execution_count": 62,
     "metadata": {},
     "output_type": "execute_result"
    }
   ],
   "source": [
    "df_combined.head()"
   ]
  },
  {
   "cell_type": "code",
   "execution_count": 60,
   "id": "0dca3ff2-864c-4101-ae29-0b80432806de",
   "metadata": {},
   "outputs": [],
   "source": [
    "# Assuming the 'category' column is numeric\n",
    "df_combined['category'] = df_combined['category'].fillna(df_combined['category'].mean())\n",
    "\n"
   ]
  },
  {
   "cell_type": "code",
   "execution_count": 63,
   "id": "74206100-848d-4157-af17-dee07e50d356",
   "metadata": {},
   "outputs": [
    {
     "data": {
      "text/plain": [
       "SN            108412\n",
       "movie_name    108412\n",
       "category      108412\n",
       "confession    108412\n",
       "dtype: int64"
      ]
     },
     "execution_count": 63,
     "metadata": {},
     "output_type": "execute_result"
    }
   ],
   "source": [
    "df_combined.count()\n"
   ]
  },
  {
   "cell_type": "code",
   "execution_count": 64,
   "id": "58108822-2cea-4e6d-b088-b8f889a33c47",
   "metadata": {},
   "outputs": [
    {
     "data": {
      "text/plain": [
       "np.False_"
      ]
     },
     "execution_count": 64,
     "metadata": {},
     "output_type": "execute_result"
    }
   ],
   "source": [
    "\n",
    "df_combined.duplicated().values.any()"
   ]
  },
  {
   "cell_type": "code",
   "execution_count": 66,
   "id": "3423b232-263e-4614-902c-c42a8adb5b43",
   "metadata": {},
   "outputs": [],
   "source": [
    "from sklearn.feature_extraction.text import TfidfVectorizer\n",
    "vectorizer = TfidfVectorizer()"
   ]
  },
  {
   "cell_type": "code",
   "execution_count": 67,
   "id": "4450109d-eb49-4a80-855f-736977d00204",
   "metadata": {},
   "outputs": [],
   "source": [
    "X = vectorizer.fit_transform(df_combined[\"confession\"])"
   ]
  },
  {
   "cell_type": "code",
   "execution_count": 68,
   "id": "94aefcda-e82d-4e55-b899-2814080eb9c2",
   "metadata": {},
   "outputs": [
    {
     "data": {
      "text/html": [
       "<div>\n",
       "<style scoped>\n",
       "    .dataframe tbody tr th:only-of-type {\n",
       "        vertical-align: middle;\n",
       "    }\n",
       "\n",
       "    .dataframe tbody tr th {\n",
       "        vertical-align: top;\n",
       "    }\n",
       "\n",
       "    .dataframe thead th {\n",
       "        text-align: right;\n",
       "    }\n",
       "</style>\n",
       "<table border=\"1\" class=\"dataframe\">\n",
       "  <thead>\n",
       "    <tr style=\"text-align: right;\">\n",
       "      <th></th>\n",
       "      <th>SN</th>\n",
       "      <th>movie_name</th>\n",
       "      <th>category</th>\n",
       "      <th>confession</th>\n",
       "    </tr>\n",
       "  </thead>\n",
       "  <tbody>\n",
       "    <tr>\n",
       "      <th>0</th>\n",
       "      <td>2</td>\n",
       "      <td>31219</td>\n",
       "      <td>24</td>\n",
       "      <td>A brother and sister with a past incestuous r...</td>\n",
       "    </tr>\n",
       "    <tr>\n",
       "      <th>1</th>\n",
       "      <td>3</td>\n",
       "      <td>107506</td>\n",
       "      <td>1</td>\n",
       "      <td>As the bus empties the students for their fie...</td>\n",
       "    </tr>\n",
       "    <tr>\n",
       "      <th>2</th>\n",
       "      <td>4</td>\n",
       "      <td>96119</td>\n",
       "      <td>8</td>\n",
       "      <td>To help their unemployed father make ends mee...</td>\n",
       "    </tr>\n",
       "    <tr>\n",
       "      <th>3</th>\n",
       "      <td>5</td>\n",
       "      <td>97557</td>\n",
       "      <td>8</td>\n",
       "      <td>The film's title refers not only to the un-re...</td>\n",
       "    </tr>\n",
       "    <tr>\n",
       "      <th>4</th>\n",
       "      <td>6</td>\n",
       "      <td>74516</td>\n",
       "      <td>7</td>\n",
       "      <td>Quality Control consists of a series of 16mm ...</td>\n",
       "    </tr>\n",
       "  </tbody>\n",
       "</table>\n",
       "</div>"
      ],
      "text/plain": [
       "   SN  movie_name  category                                         confession\n",
       "0   2       31219        24   A brother and sister with a past incestuous r...\n",
       "1   3      107506         1   As the bus empties the students for their fie...\n",
       "2   4       96119         8   To help their unemployed father make ends mee...\n",
       "3   5       97557         8   The film's title refers not only to the un-re...\n",
       "4   6       74516         7   Quality Control consists of a series of 16mm ..."
      ]
     },
     "execution_count": 68,
     "metadata": {},
     "output_type": "execute_result"
    }
   ],
   "source": [
    "df_combined.head()\n"
   ]
  },
  {
   "cell_type": "code",
   "execution_count": 69,
   "id": "ac46bfdc-51eb-42bb-b06c-4a43cb4be8b5",
   "metadata": {},
   "outputs": [],
   "source": [
    "\n",
    "y = df_combined[\"category\"]"
   ]
  },
  {
   "cell_type": "code",
   "execution_count": 71,
   "id": "734296a8-01af-4c9e-af20-dfafaaadffe7",
   "metadata": {},
   "outputs": [],
   "source": [
    "from sklearn.model_selection import train_test_split\n",
    "X_train, X_test, y_train, y_test = train_test_split(X, y, test_size=0.2, random_state=42)"
   ]
  },
  {
   "cell_type": "code",
   "execution_count": 73,
   "id": "482b413d-1de9-423e-9e52-d64135ec1288",
   "metadata": {},
   "outputs": [],
   "source": [
    "from sklearn.naive_bayes import MultinomialNB\n",
    "naive_bayes_model = MultinomialNB()\n",
    "\n"
   ]
  },
  {
   "cell_type": "code",
   "execution_count": 74,
   "id": "b6b4af7b-8a68-44ca-8e3f-9c068b416d1f",
   "metadata": {},
   "outputs": [
    {
     "data": {
      "text/html": [
       "<style>#sk-container-id-1 {\n",
       "  /* Definition of color scheme common for light and dark mode */\n",
       "  --sklearn-color-text: black;\n",
       "  --sklearn-color-line: gray;\n",
       "  /* Definition of color scheme for unfitted estimators */\n",
       "  --sklearn-color-unfitted-level-0: #fff5e6;\n",
       "  --sklearn-color-unfitted-level-1: #f6e4d2;\n",
       "  --sklearn-color-unfitted-level-2: #ffe0b3;\n",
       "  --sklearn-color-unfitted-level-3: chocolate;\n",
       "  /* Definition of color scheme for fitted estimators */\n",
       "  --sklearn-color-fitted-level-0: #f0f8ff;\n",
       "  --sklearn-color-fitted-level-1: #d4ebff;\n",
       "  --sklearn-color-fitted-level-2: #b3dbfd;\n",
       "  --sklearn-color-fitted-level-3: cornflowerblue;\n",
       "\n",
       "  /* Specific color for light theme */\n",
       "  --sklearn-color-text-on-default-background: var(--sg-text-color, var(--theme-code-foreground, var(--jp-content-font-color1, black)));\n",
       "  --sklearn-color-background: var(--sg-background-color, var(--theme-background, var(--jp-layout-color0, white)));\n",
       "  --sklearn-color-border-box: var(--sg-text-color, var(--theme-code-foreground, var(--jp-content-font-color1, black)));\n",
       "  --sklearn-color-icon: #696969;\n",
       "\n",
       "  @media (prefers-color-scheme: dark) {\n",
       "    /* Redefinition of color scheme for dark theme */\n",
       "    --sklearn-color-text-on-default-background: var(--sg-text-color, var(--theme-code-foreground, var(--jp-content-font-color1, white)));\n",
       "    --sklearn-color-background: var(--sg-background-color, var(--theme-background, var(--jp-layout-color0, #111)));\n",
       "    --sklearn-color-border-box: var(--sg-text-color, var(--theme-code-foreground, var(--jp-content-font-color1, white)));\n",
       "    --sklearn-color-icon: #878787;\n",
       "  }\n",
       "}\n",
       "\n",
       "#sk-container-id-1 {\n",
       "  color: var(--sklearn-color-text);\n",
       "}\n",
       "\n",
       "#sk-container-id-1 pre {\n",
       "  padding: 0;\n",
       "}\n",
       "\n",
       "#sk-container-id-1 input.sk-hidden--visually {\n",
       "  border: 0;\n",
       "  clip: rect(1px 1px 1px 1px);\n",
       "  clip: rect(1px, 1px, 1px, 1px);\n",
       "  height: 1px;\n",
       "  margin: -1px;\n",
       "  overflow: hidden;\n",
       "  padding: 0;\n",
       "  position: absolute;\n",
       "  width: 1px;\n",
       "}\n",
       "\n",
       "#sk-container-id-1 div.sk-dashed-wrapped {\n",
       "  border: 1px dashed var(--sklearn-color-line);\n",
       "  margin: 0 0.4em 0.5em 0.4em;\n",
       "  box-sizing: border-box;\n",
       "  padding-bottom: 0.4em;\n",
       "  background-color: var(--sklearn-color-background);\n",
       "}\n",
       "\n",
       "#sk-container-id-1 div.sk-container {\n",
       "  /* jupyter's `normalize.less` sets `[hidden] { display: none; }`\n",
       "     but bootstrap.min.css set `[hidden] { display: none !important; }`\n",
       "     so we also need the `!important` here to be able to override the\n",
       "     default hidden behavior on the sphinx rendered scikit-learn.org.\n",
       "     See: https://github.com/scikit-learn/scikit-learn/issues/21755 */\n",
       "  display: inline-block !important;\n",
       "  position: relative;\n",
       "}\n",
       "\n",
       "#sk-container-id-1 div.sk-text-repr-fallback {\n",
       "  display: none;\n",
       "}\n",
       "\n",
       "div.sk-parallel-item,\n",
       "div.sk-serial,\n",
       "div.sk-item {\n",
       "  /* draw centered vertical line to link estimators */\n",
       "  background-image: linear-gradient(var(--sklearn-color-text-on-default-background), var(--sklearn-color-text-on-default-background));\n",
       "  background-size: 2px 100%;\n",
       "  background-repeat: no-repeat;\n",
       "  background-position: center center;\n",
       "}\n",
       "\n",
       "/* Parallel-specific style estimator block */\n",
       "\n",
       "#sk-container-id-1 div.sk-parallel-item::after {\n",
       "  content: \"\";\n",
       "  width: 100%;\n",
       "  border-bottom: 2px solid var(--sklearn-color-text-on-default-background);\n",
       "  flex-grow: 1;\n",
       "}\n",
       "\n",
       "#sk-container-id-1 div.sk-parallel {\n",
       "  display: flex;\n",
       "  align-items: stretch;\n",
       "  justify-content: center;\n",
       "  background-color: var(--sklearn-color-background);\n",
       "  position: relative;\n",
       "}\n",
       "\n",
       "#sk-container-id-1 div.sk-parallel-item {\n",
       "  display: flex;\n",
       "  flex-direction: column;\n",
       "}\n",
       "\n",
       "#sk-container-id-1 div.sk-parallel-item:first-child::after {\n",
       "  align-self: flex-end;\n",
       "  width: 50%;\n",
       "}\n",
       "\n",
       "#sk-container-id-1 div.sk-parallel-item:last-child::after {\n",
       "  align-self: flex-start;\n",
       "  width: 50%;\n",
       "}\n",
       "\n",
       "#sk-container-id-1 div.sk-parallel-item:only-child::after {\n",
       "  width: 0;\n",
       "}\n",
       "\n",
       "/* Serial-specific style estimator block */\n",
       "\n",
       "#sk-container-id-1 div.sk-serial {\n",
       "  display: flex;\n",
       "  flex-direction: column;\n",
       "  align-items: center;\n",
       "  background-color: var(--sklearn-color-background);\n",
       "  padding-right: 1em;\n",
       "  padding-left: 1em;\n",
       "}\n",
       "\n",
       "\n",
       "/* Toggleable style: style used for estimator/Pipeline/ColumnTransformer box that is\n",
       "clickable and can be expanded/collapsed.\n",
       "- Pipeline and ColumnTransformer use this feature and define the default style\n",
       "- Estimators will overwrite some part of the style using the `sk-estimator` class\n",
       "*/\n",
       "\n",
       "/* Pipeline and ColumnTransformer style (default) */\n",
       "\n",
       "#sk-container-id-1 div.sk-toggleable {\n",
       "  /* Default theme specific background. It is overwritten whether we have a\n",
       "  specific estimator or a Pipeline/ColumnTransformer */\n",
       "  background-color: var(--sklearn-color-background);\n",
       "}\n",
       "\n",
       "/* Toggleable label */\n",
       "#sk-container-id-1 label.sk-toggleable__label {\n",
       "  cursor: pointer;\n",
       "  display: block;\n",
       "  width: 100%;\n",
       "  margin-bottom: 0;\n",
       "  padding: 0.5em;\n",
       "  box-sizing: border-box;\n",
       "  text-align: center;\n",
       "}\n",
       "\n",
       "#sk-container-id-1 label.sk-toggleable__label-arrow:before {\n",
       "  /* Arrow on the left of the label */\n",
       "  content: \"▸\";\n",
       "  float: left;\n",
       "  margin-right: 0.25em;\n",
       "  color: var(--sklearn-color-icon);\n",
       "}\n",
       "\n",
       "#sk-container-id-1 label.sk-toggleable__label-arrow:hover:before {\n",
       "  color: var(--sklearn-color-text);\n",
       "}\n",
       "\n",
       "/* Toggleable content - dropdown */\n",
       "\n",
       "#sk-container-id-1 div.sk-toggleable__content {\n",
       "  max-height: 0;\n",
       "  max-width: 0;\n",
       "  overflow: hidden;\n",
       "  text-align: left;\n",
       "  /* unfitted */\n",
       "  background-color: var(--sklearn-color-unfitted-level-0);\n",
       "}\n",
       "\n",
       "#sk-container-id-1 div.sk-toggleable__content.fitted {\n",
       "  /* fitted */\n",
       "  background-color: var(--sklearn-color-fitted-level-0);\n",
       "}\n",
       "\n",
       "#sk-container-id-1 div.sk-toggleable__content pre {\n",
       "  margin: 0.2em;\n",
       "  border-radius: 0.25em;\n",
       "  color: var(--sklearn-color-text);\n",
       "  /* unfitted */\n",
       "  background-color: var(--sklearn-color-unfitted-level-0);\n",
       "}\n",
       "\n",
       "#sk-container-id-1 div.sk-toggleable__content.fitted pre {\n",
       "  /* unfitted */\n",
       "  background-color: var(--sklearn-color-fitted-level-0);\n",
       "}\n",
       "\n",
       "#sk-container-id-1 input.sk-toggleable__control:checked~div.sk-toggleable__content {\n",
       "  /* Expand drop-down */\n",
       "  max-height: 200px;\n",
       "  max-width: 100%;\n",
       "  overflow: auto;\n",
       "}\n",
       "\n",
       "#sk-container-id-1 input.sk-toggleable__control:checked~label.sk-toggleable__label-arrow:before {\n",
       "  content: \"▾\";\n",
       "}\n",
       "\n",
       "/* Pipeline/ColumnTransformer-specific style */\n",
       "\n",
       "#sk-container-id-1 div.sk-label input.sk-toggleable__control:checked~label.sk-toggleable__label {\n",
       "  color: var(--sklearn-color-text);\n",
       "  background-color: var(--sklearn-color-unfitted-level-2);\n",
       "}\n",
       "\n",
       "#sk-container-id-1 div.sk-label.fitted input.sk-toggleable__control:checked~label.sk-toggleable__label {\n",
       "  background-color: var(--sklearn-color-fitted-level-2);\n",
       "}\n",
       "\n",
       "/* Estimator-specific style */\n",
       "\n",
       "/* Colorize estimator box */\n",
       "#sk-container-id-1 div.sk-estimator input.sk-toggleable__control:checked~label.sk-toggleable__label {\n",
       "  /* unfitted */\n",
       "  background-color: var(--sklearn-color-unfitted-level-2);\n",
       "}\n",
       "\n",
       "#sk-container-id-1 div.sk-estimator.fitted input.sk-toggleable__control:checked~label.sk-toggleable__label {\n",
       "  /* fitted */\n",
       "  background-color: var(--sklearn-color-fitted-level-2);\n",
       "}\n",
       "\n",
       "#sk-container-id-1 div.sk-label label.sk-toggleable__label,\n",
       "#sk-container-id-1 div.sk-label label {\n",
       "  /* The background is the default theme color */\n",
       "  color: var(--sklearn-color-text-on-default-background);\n",
       "}\n",
       "\n",
       "/* On hover, darken the color of the background */\n",
       "#sk-container-id-1 div.sk-label:hover label.sk-toggleable__label {\n",
       "  color: var(--sklearn-color-text);\n",
       "  background-color: var(--sklearn-color-unfitted-level-2);\n",
       "}\n",
       "\n",
       "/* Label box, darken color on hover, fitted */\n",
       "#sk-container-id-1 div.sk-label.fitted:hover label.sk-toggleable__label.fitted {\n",
       "  color: var(--sklearn-color-text);\n",
       "  background-color: var(--sklearn-color-fitted-level-2);\n",
       "}\n",
       "\n",
       "/* Estimator label */\n",
       "\n",
       "#sk-container-id-1 div.sk-label label {\n",
       "  font-family: monospace;\n",
       "  font-weight: bold;\n",
       "  display: inline-block;\n",
       "  line-height: 1.2em;\n",
       "}\n",
       "\n",
       "#sk-container-id-1 div.sk-label-container {\n",
       "  text-align: center;\n",
       "}\n",
       "\n",
       "/* Estimator-specific */\n",
       "#sk-container-id-1 div.sk-estimator {\n",
       "  font-family: monospace;\n",
       "  border: 1px dotted var(--sklearn-color-border-box);\n",
       "  border-radius: 0.25em;\n",
       "  box-sizing: border-box;\n",
       "  margin-bottom: 0.5em;\n",
       "  /* unfitted */\n",
       "  background-color: var(--sklearn-color-unfitted-level-0);\n",
       "}\n",
       "\n",
       "#sk-container-id-1 div.sk-estimator.fitted {\n",
       "  /* fitted */\n",
       "  background-color: var(--sklearn-color-fitted-level-0);\n",
       "}\n",
       "\n",
       "/* on hover */\n",
       "#sk-container-id-1 div.sk-estimator:hover {\n",
       "  /* unfitted */\n",
       "  background-color: var(--sklearn-color-unfitted-level-2);\n",
       "}\n",
       "\n",
       "#sk-container-id-1 div.sk-estimator.fitted:hover {\n",
       "  /* fitted */\n",
       "  background-color: var(--sklearn-color-fitted-level-2);\n",
       "}\n",
       "\n",
       "/* Specification for estimator info (e.g. \"i\" and \"?\") */\n",
       "\n",
       "/* Common style for \"i\" and \"?\" */\n",
       "\n",
       ".sk-estimator-doc-link,\n",
       "a:link.sk-estimator-doc-link,\n",
       "a:visited.sk-estimator-doc-link {\n",
       "  float: right;\n",
       "  font-size: smaller;\n",
       "  line-height: 1em;\n",
       "  font-family: monospace;\n",
       "  background-color: var(--sklearn-color-background);\n",
       "  border-radius: 1em;\n",
       "  height: 1em;\n",
       "  width: 1em;\n",
       "  text-decoration: none !important;\n",
       "  margin-left: 1ex;\n",
       "  /* unfitted */\n",
       "  border: var(--sklearn-color-unfitted-level-1) 1pt solid;\n",
       "  color: var(--sklearn-color-unfitted-level-1);\n",
       "}\n",
       "\n",
       ".sk-estimator-doc-link.fitted,\n",
       "a:link.sk-estimator-doc-link.fitted,\n",
       "a:visited.sk-estimator-doc-link.fitted {\n",
       "  /* fitted */\n",
       "  border: var(--sklearn-color-fitted-level-1) 1pt solid;\n",
       "  color: var(--sklearn-color-fitted-level-1);\n",
       "}\n",
       "\n",
       "/* On hover */\n",
       "div.sk-estimator:hover .sk-estimator-doc-link:hover,\n",
       ".sk-estimator-doc-link:hover,\n",
       "div.sk-label-container:hover .sk-estimator-doc-link:hover,\n",
       ".sk-estimator-doc-link:hover {\n",
       "  /* unfitted */\n",
       "  background-color: var(--sklearn-color-unfitted-level-3);\n",
       "  color: var(--sklearn-color-background);\n",
       "  text-decoration: none;\n",
       "}\n",
       "\n",
       "div.sk-estimator.fitted:hover .sk-estimator-doc-link.fitted:hover,\n",
       ".sk-estimator-doc-link.fitted:hover,\n",
       "div.sk-label-container:hover .sk-estimator-doc-link.fitted:hover,\n",
       ".sk-estimator-doc-link.fitted:hover {\n",
       "  /* fitted */\n",
       "  background-color: var(--sklearn-color-fitted-level-3);\n",
       "  color: var(--sklearn-color-background);\n",
       "  text-decoration: none;\n",
       "}\n",
       "\n",
       "/* Span, style for the box shown on hovering the info icon */\n",
       ".sk-estimator-doc-link span {\n",
       "  display: none;\n",
       "  z-index: 9999;\n",
       "  position: relative;\n",
       "  font-weight: normal;\n",
       "  right: .2ex;\n",
       "  padding: .5ex;\n",
       "  margin: .5ex;\n",
       "  width: min-content;\n",
       "  min-width: 20ex;\n",
       "  max-width: 50ex;\n",
       "  color: var(--sklearn-color-text);\n",
       "  box-shadow: 2pt 2pt 4pt #999;\n",
       "  /* unfitted */\n",
       "  background: var(--sklearn-color-unfitted-level-0);\n",
       "  border: .5pt solid var(--sklearn-color-unfitted-level-3);\n",
       "}\n",
       "\n",
       ".sk-estimator-doc-link.fitted span {\n",
       "  /* fitted */\n",
       "  background: var(--sklearn-color-fitted-level-0);\n",
       "  border: var(--sklearn-color-fitted-level-3);\n",
       "}\n",
       "\n",
       ".sk-estimator-doc-link:hover span {\n",
       "  display: block;\n",
       "}\n",
       "\n",
       "/* \"?\"-specific style due to the `<a>` HTML tag */\n",
       "\n",
       "#sk-container-id-1 a.estimator_doc_link {\n",
       "  float: right;\n",
       "  font-size: 1rem;\n",
       "  line-height: 1em;\n",
       "  font-family: monospace;\n",
       "  background-color: var(--sklearn-color-background);\n",
       "  border-radius: 1rem;\n",
       "  height: 1rem;\n",
       "  width: 1rem;\n",
       "  text-decoration: none;\n",
       "  /* unfitted */\n",
       "  color: var(--sklearn-color-unfitted-level-1);\n",
       "  border: var(--sklearn-color-unfitted-level-1) 1pt solid;\n",
       "}\n",
       "\n",
       "#sk-container-id-1 a.estimator_doc_link.fitted {\n",
       "  /* fitted */\n",
       "  border: var(--sklearn-color-fitted-level-1) 1pt solid;\n",
       "  color: var(--sklearn-color-fitted-level-1);\n",
       "}\n",
       "\n",
       "/* On hover */\n",
       "#sk-container-id-1 a.estimator_doc_link:hover {\n",
       "  /* unfitted */\n",
       "  background-color: var(--sklearn-color-unfitted-level-3);\n",
       "  color: var(--sklearn-color-background);\n",
       "  text-decoration: none;\n",
       "}\n",
       "\n",
       "#sk-container-id-1 a.estimator_doc_link.fitted:hover {\n",
       "  /* fitted */\n",
       "  background-color: var(--sklearn-color-fitted-level-3);\n",
       "}\n",
       "</style><div id=\"sk-container-id-1\" class=\"sk-top-container\"><div class=\"sk-text-repr-fallback\"><pre>MultinomialNB()</pre><b>In a Jupyter environment, please rerun this cell to show the HTML representation or trust the notebook. <br />On GitHub, the HTML representation is unable to render, please try loading this page with nbviewer.org.</b></div><div class=\"sk-container\" hidden><div class=\"sk-item\"><div class=\"sk-estimator fitted sk-toggleable\"><input class=\"sk-toggleable__control sk-hidden--visually\" id=\"sk-estimator-id-1\" type=\"checkbox\" checked><label for=\"sk-estimator-id-1\" class=\"sk-toggleable__label fitted sk-toggleable__label-arrow fitted\">&nbsp;&nbsp;MultinomialNB<a class=\"sk-estimator-doc-link fitted\" rel=\"noreferrer\" target=\"_blank\" href=\"https://scikit-learn.org/1.5/modules/generated/sklearn.naive_bayes.MultinomialNB.html\">?<span>Documentation for MultinomialNB</span></a><span class=\"sk-estimator-doc-link fitted\">i<span>Fitted</span></span></label><div class=\"sk-toggleable__content fitted\"><pre>MultinomialNB()</pre></div> </div></div></div></div>"
      ],
      "text/plain": [
       "MultinomialNB()"
      ]
     },
     "execution_count": 74,
     "metadata": {},
     "output_type": "execute_result"
    }
   ],
   "source": [
    "naive_bayes_model.fit(X_train, y_train)"
   ]
  },
  {
   "cell_type": "code",
   "execution_count": 75,
   "id": "e1fc7607-5e52-4631-b7e5-bd1dc20e9d3c",
   "metadata": {},
   "outputs": [],
   "source": [
    "nb_predictions = naive_bayes_model.predict(X_test)\n"
   ]
  },
  {
   "cell_type": "code",
   "execution_count": 79,
   "id": "8c5f926e-70b3-4fcb-8904-a3118bb2b6d3",
   "metadata": {},
   "outputs": [
    {
     "name": "stdout",
     "output_type": "stream",
     "text": [
      "Naive Bayes Model:\n",
      "[[    0     0     0     0     0     0     0     0     0     0     0     0\n",
      "      0     0     0     0     0     0     0     0     0     0     0     0\n",
      "      0     0     0   256]\n",
      " [    0     0     0     0     0     0     0     0     0     0     0     0\n",
      "      0     0     0     0     0     0     0     0     0     0     0     0\n",
      "      0     0     0   127]\n",
      " [    0     0     0     0     0     1     0     0     0     0     0     0\n",
      "      0     0     0     0     0     0     0     0     0     0     0     0\n",
      "      0     0     0   145]\n",
      " [    0     0     0     0     0     0     0     0     0     0     0     0\n",
      "      0     0     0     0     0     0     0     0     0     0     0     0\n",
      "      0     0     0    91]\n",
      " [    0     0     0     0     0     0     0     0     0     0     0     0\n",
      "      0     0     0     0     0     0     0     0     0     0     0     0\n",
      "      0     0     0    42]\n",
      " [    0     0     0     0     0    18     0     0     1     0     0     0\n",
      "      0     0     0     0     0     0     0     0     0     0     0     0\n",
      "      0     0     0  1469]\n",
      " [    0     0     0     0     0     0     0     0     0     0     0     0\n",
      "      0     0     0     0     0     0     0     0     0     0     0     0\n",
      "      0     0     0    96]\n",
      " [    0     0     0     0     0     2     0     1     0     0     0     0\n",
      "      0     0     0     0     0     0     0     0     0     1     0     0\n",
      "      0     0     0  2662]\n",
      " [    0     0     0     0     0    10     0     0     3     0     0     0\n",
      "      0     0     0     0     0     0     0     0     0     0     0     0\n",
      "      0     0     0  2764]\n",
      " [    0     0     0     0     0     0     0     0     0     0     0     0\n",
      "      0     0     0     0     0     0     0     0     0     0     0     0\n",
      "      0     0     0   151]\n",
      " [    0     0     0     0     0     0     0     0     0     0     0     0\n",
      "      0     0     0     0     0     0     0     0     0     0     0     0\n",
      "      0     0     0    70]\n",
      " [    0     0     0     0     0     0     0     0     0     0     0     0\n",
      "      0     0     0     0     0     0     0     0     0     0     0     0\n",
      "      0     0     0    51]\n",
      " [    0     0     0     0     0     0     0     0     0     0     0     0\n",
      "      0     0     0     0     0     0     0     0     0     0     0     0\n",
      "      0     0     0    44]\n",
      " [    0     0     0     0     0     0     0     0     0     0     0     0\n",
      "      0     0     0     0     0     0     0     0     0     0     0     0\n",
      "      0     0     0   480]\n",
      " [    0     0     0     0     0     0     0     0     0     0     0     0\n",
      "      0     0     0     0     0     0     0     0     0     0     0     0\n",
      "      0     0     0   131]\n",
      " [    0     0     0     0     0     1     0     0     0     0     0     0\n",
      "      0     0     0     0     0     0     0     0     0     0     0     0\n",
      "      0     0     0    48]\n",
      " [    0     0     0     0     0     0     0     0     0     0     0     0\n",
      "      0     0     0     0     0     0     0     0     0     0     0     0\n",
      "      0     0     0    73]\n",
      " [    0     0     0     0     0     0     0     0     0     0     0     0\n",
      "      0     0     0     0     0     0     0     0     0     0     0     0\n",
      "      0     0     0    44]\n",
      " [    0     0     0     0     0     0     0     0     0     0     0     0\n",
      "      0     0     0     0     0     0     0     0     0     0     0     0\n",
      "      0     0     0   173]\n",
      " [    0     0     0     0     0     0     0     0     0     0     0     0\n",
      "      0     0     0     0     0     0     0     0     0     0     0     0\n",
      "      0     0     0   158]\n",
      " [    0     0     0     0     0     0     0     0     0     0     0     0\n",
      "      0     0     0     0     0     0     0     0     0     0     0     0\n",
      "      0     0     0   118]\n",
      " [    0     0     0     0     0     3     0     0     0     0     0     0\n",
      "      0     0     0     0     0     0     0     0     0     0     0     0\n",
      "      0     0     0   958]\n",
      " [    0     0     0     0     0     0     0     0     0     0     0     0\n",
      "      0     0     0     0     0     0     0     0     0     0     0     0\n",
      "      0     0     0    97]\n",
      " [    0     0     0     0     0     0     0     0     0     0     0     0\n",
      "      0     0     0     0     0     0     0     0     0     0     0     0\n",
      "      0     0     0    86]\n",
      " [    0     0     0     0     0     1     0     0     1     0     0     0\n",
      "      0     0     0     0     0     0     0     0     0     0     0     0\n",
      "      0     0     0   319]\n",
      " [    0     0     0     0     0     0     0     0     0     0     0     0\n",
      "      0     0     0     0     0     0     0     0     0     0     0     0\n",
      "      0     0     0    35]\n",
      " [    0     0     0     0     0     0     0     0     0     0     0     0\n",
      "      0     0     0     0     0     0     0     0     0     0     0     0\n",
      "      0     0     0   218]\n",
      " [    0     0     0     0     0    41     0     0    10     0     0     0\n",
      "      0     0     0     0     0     0     0     0     0     0     0     0\n",
      "      0     0     0 10683]]\n",
      "              precision    recall  f1-score   support\n",
      "\n",
      "           0       0.00      0.00      0.00       256\n",
      "           1       0.00      0.00      0.00       127\n",
      "           2       0.00      0.00      0.00       146\n",
      "           3       0.00      0.00      0.00        91\n",
      "           4       0.00      0.00      0.00        42\n",
      "           5       0.23      0.01      0.02      1488\n",
      "           6       0.00      0.00      0.00        96\n",
      "           7       1.00      0.00      0.00      2666\n",
      "           8       0.20      0.00      0.00      2777\n",
      "           9       0.00      0.00      0.00       151\n",
      "          10       0.00      0.00      0.00        70\n",
      "          11       0.00      0.00      0.00        51\n",
      "          12       0.00      0.00      0.00        44\n",
      "          13       0.00      0.00      0.00       480\n",
      "          14       0.00      0.00      0.00       131\n",
      "          15       0.00      0.00      0.00        49\n",
      "          16       0.00      0.00      0.00        73\n",
      "          17       0.00      0.00      0.00        44\n",
      "          18       0.00      0.00      0.00       173\n",
      "          19       0.00      0.00      0.00       158\n",
      "          20       0.00      0.00      0.00       118\n",
      "          21       0.00      0.00      0.00       961\n",
      "          22       0.00      0.00      0.00        97\n",
      "          23       0.00      0.00      0.00        86\n",
      "          24       0.00      0.00      0.00       321\n",
      "          25       0.00      0.00      0.00        35\n",
      "          26       0.00      0.00      0.00       218\n",
      "          27       0.49      1.00      0.66     10734\n",
      "\n",
      "    accuracy                           0.49     21683\n",
      "   macro avg       0.07      0.04      0.02     21683\n",
      "weighted avg       0.41      0.49      0.33     21683\n",
      "\n",
      "Accuracy:  0.49370474565327677\n",
      "r2_Score:  -0.7967143521586344\n"
     ]
    },
    {
     "name": "stderr",
     "output_type": "stream",
     "text": [
      "C:\\Users\\91785\\AppData\\Local\\Programs\\Python\\Python313\\Lib\\site-packages\\sklearn\\metrics\\_classification.py:1531: UndefinedMetricWarning: Precision is ill-defined and being set to 0.0 in labels with no predicted samples. Use `zero_division` parameter to control this behavior.\n",
      "  _warn_prf(average, modifier, f\"{metric.capitalize()} is\", len(result))\n",
      "C:\\Users\\91785\\AppData\\Local\\Programs\\Python\\Python313\\Lib\\site-packages\\sklearn\\metrics\\_classification.py:1531: UndefinedMetricWarning: Precision is ill-defined and being set to 0.0 in labels with no predicted samples. Use `zero_division` parameter to control this behavior.\n",
      "  _warn_prf(average, modifier, f\"{metric.capitalize()} is\", len(result))\n",
      "C:\\Users\\91785\\AppData\\Local\\Programs\\Python\\Python313\\Lib\\site-packages\\sklearn\\metrics\\_classification.py:1531: UndefinedMetricWarning: Precision is ill-defined and being set to 0.0 in labels with no predicted samples. Use `zero_division` parameter to control this behavior.\n",
      "  _warn_prf(average, modifier, f\"{metric.capitalize()} is\", len(result))\n"
     ]
    }
   ],
   "source": [
    "print(\"Naive Bayes Model:\")\n",
    "from sklearn.metrics import accuracy_score, r2_score\n",
    "from sklearn.metrics import confusion_matrix\n",
    "from sklearn.metrics import classification_report\n",
    "print(confusion_matrix(y_test, nb_predictions))\n",
    "print(classification_report(y_test, nb_predictions))\n",
    "print(\"Accuracy: \", accuracy_score(y_test, nb_predictions))\n",
    "print(\"r2_Score: \", r2_score(y_test, nb_predictions))"
   ]
  },
  {
   "cell_type": "code",
   "execution_count": 81,
   "id": "921a4146-fcc3-44fb-bd21-eae4742f2cdc",
   "metadata": {},
   "outputs": [],
   "source": [
    "from sklearn.linear_model import LogisticRegression\n",
    "logistic_regression_model = LogisticRegression()"
   ]
  },
  {
   "cell_type": "code",
   "execution_count": null,
   "id": "1d1623d4-0d82-4de5-af90-c7108f0811f2",
   "metadata": {},
   "outputs": [],
   "source": [
    "logistic_regression_model.fit(X_train, y_train)"
   ]
  },
  {
   "cell_type": "code",
   "execution_count": null,
   "id": "0544113d-410a-47bf-9ee1-4f399509effd",
   "metadata": {},
   "outputs": [],
   "source": [
    "lr_predictions = logistic_regression_model.predict(X_test)"
   ]
  },
  {
   "cell_type": "code",
   "execution_count": 88,
   "id": "bce6ce5e-ad7f-4c12-9241-0f001ca1b4d0",
   "metadata": {},
   "outputs": [
    {
     "name": "stdout",
     "output_type": "stream",
     "text": [
      "Logistic Regression Model:\n",
      "[[   2    0    0    0    0    0    0    0    2    0    0    0    0    1\n",
      "     0    0    0    0    0    0    0    0    0    0    0    0    0  251]\n",
      " [   0    3    0    0    0    2    0    0    1    0    0    0    0    0\n",
      "     0    0    0    0    0    0    0    0    0    0    0    0    0  121]\n",
      " [   0    1    0    0    0    1    0    1    0    0    0    0    0    0\n",
      "     0    0    0    0    0    0    0    0    0    0    0    0    0  143]\n",
      " [   0    0    0    0    0    1    0    0    2    0    0    0    0    1\n",
      "     0    0    0    0    0    0    0    0    0    0    0    0    0   87]\n",
      " [   0    0    0    0    0    0    0    3    0    0    0    0    0    0\n",
      "     0    0    0    0    0    0    0    0    0    0    0    0    0   39]\n",
      " [   0    0    0    0    0  102    0    1   17    0    0    0    0    1\n",
      "     0    0    0    0    0    0    0    0    0    0    0    0    0 1367]\n",
      " [   0    0    0    0    0    1    0    0    2    0    0    0    0    0\n",
      "     0    0    0    0    0    0    0    0    0    0    0    0    0   93]\n",
      " [   0    0    0    0    0    3    0  573    3    0    0    0    0    0\n",
      "     3    0    0    0    1    0    0    2    0    0    0    0    0 2081]\n",
      " [   0    0    0    0    0   15    0    6  240    0    0    0    0    1\n",
      "     0    0    0    0    0    0    0    3    0    0    0    0    0 2512]\n",
      " [   0    0    0    0    0    1    0    3    5    0    0    0    0    0\n",
      "     0    0    0    0    0    0    0    0    0    0    0    0    0  142]\n",
      " [   0    0    0    0    0    0    0    0    0    0    0    0    0    1\n",
      "     0    0    0    0    0    0    0    0    0    0    0    0    0   69]\n",
      " [   0    0    0    0    0    0    0    0    0    0    0    4    0    0\n",
      "     0    0    0    0    0    0    0    0    0    0    0    0    0   47]\n",
      " [   0    0    0    0    0    0    0   10    0    0    0    0    0    0\n",
      "     0    0    0    0    0    0    0    0    0    0    0    0    0   34]\n",
      " [   0    0    0    0    0    0    0    1    5    0    0    0    0   54\n",
      "     0    0    0    0    0    0    0    0    0    0    2    0    0  418]\n",
      " [   0    0    0    0    0    0    0    3    0    0    0    0    0    0\n",
      "    13    0    0    0    0    0    0    0    0    0    0    0    0  115]\n",
      " [   0    0    0    0    0    0    0    1    1    0    0    0    0    0\n",
      "     1    0    0    0    0    0    0    0    0    0    0    0    0   46]\n",
      " [   0    0    0    0    0    0    0    0    2    0    0    0    0    0\n",
      "     0    0    0    0    0    0    0    0    0    0    0    0    0   71]\n",
      " [   0    0    0    0    0    0    0    2    0    0    0    0    0    0\n",
      "     0    0    0    0    0    0    0    0    0    0    0    0    0   42]\n",
      " [   0    0    0    0    0    0    0    4    0    0    0    0    0    0\n",
      "     0    0    0    0    3    0    0    0    0    0    0    0    0  166]\n",
      " [   0    0    0    0    0    5    0    0    8    0    0    0    0    0\n",
      "     0    0    0    0    0    0    0    0    0    0    0    0    0  145]\n",
      " [   0    0    0    0    0    0    0    0    0    0    0    0    0    1\n",
      "     0    0    0    0    0    0    2    0    0    0    0    0    0  115]\n",
      " [   0    0    0    0    0   10    0   22    9    0    0    0    0    0\n",
      "     0    0    0    0    0    0    0   35    0    0    0    0    0  885]\n",
      " [   0    0    0    0    0    0    0    4    0    0    0    0    0    0\n",
      "     0    0    0    0    0    0    0    0    1    0    0    0    0   92]\n",
      " [   0    0    0    0    0    0    0    1    0    0    0    0    0    0\n",
      "     0    0    0    0    2    0    0    0    0    1    0    0    0   82]\n",
      " [   0    0    0    0    0    1    0    0    8    0    0    0    0    3\n",
      "     0    0    0    0    0    0    0    0    0    0    1    0    0  308]\n",
      " [   0    0    0    0    0    0    0    2    0    0    0    0    0    0\n",
      "     0    0    0    0    0    0    0    0    0    0    0    0    0   33]\n",
      " [   0    0    0    0    0    0    0    0    0    0    0    0    0    0\n",
      "     0    0    0    0    0    0    0    0    0    0    0    0   26  192]\n",
      " [   3    1    1    0    0  150    0  582  273    0    0    2    0   59\n",
      "    16    0    0    0    5    1    2   47    1    0    5    0   28 9558]]\n"
     ]
    },
    {
     "name": "stderr",
     "output_type": "stream",
     "text": [
      "C:\\Users\\91785\\AppData\\Local\\Programs\\Python\\Python313\\Lib\\site-packages\\sklearn\\metrics\\_classification.py:1531: UndefinedMetricWarning: Precision is ill-defined and being set to 0.0 in labels with no predicted samples. Use `zero_division` parameter to control this behavior.\n",
      "  _warn_prf(average, modifier, f\"{metric.capitalize()} is\", len(result))\n",
      "C:\\Users\\91785\\AppData\\Local\\Programs\\Python\\Python313\\Lib\\site-packages\\sklearn\\metrics\\_classification.py:1531: UndefinedMetricWarning: Precision is ill-defined and being set to 0.0 in labels with no predicted samples. Use `zero_division` parameter to control this behavior.\n",
      "  _warn_prf(average, modifier, f\"{metric.capitalize()} is\", len(result))\n",
      "C:\\Users\\91785\\AppData\\Local\\Programs\\Python\\Python313\\Lib\\site-packages\\sklearn\\metrics\\_classification.py:1531: UndefinedMetricWarning: Precision is ill-defined and being set to 0.0 in labels with no predicted samples. Use `zero_division` parameter to control this behavior.\n",
      "  _warn_prf(average, modifier, f\"{metric.capitalize()} is\", len(result))\n"
     ]
    },
    {
     "name": "stdout",
     "output_type": "stream",
     "text": [
      "              precision    recall  f1-score   support\n",
      "\n",
      "           0       0.40      0.01      0.02       256\n",
      "           1       0.60      0.02      0.05       127\n",
      "           2       0.00      0.00      0.00       146\n",
      "           3       0.00      0.00      0.00        91\n",
      "           4       0.00      0.00      0.00        42\n",
      "           5       0.35      0.07      0.11      1488\n",
      "           6       0.00      0.00      0.00        96\n",
      "           7       0.47      0.21      0.29      2666\n",
      "           8       0.42      0.09      0.14      2777\n",
      "           9       0.00      0.00      0.00       151\n",
      "          10       0.00      0.00      0.00        70\n",
      "          11       0.67      0.08      0.14        51\n",
      "          12       0.00      0.00      0.00        44\n",
      "          13       0.44      0.11      0.18       480\n",
      "          14       0.39      0.10      0.16       131\n",
      "          15       0.00      0.00      0.00        49\n",
      "          16       0.00      0.00      0.00        73\n",
      "          17       0.00      0.00      0.00        44\n",
      "          18       0.27      0.02      0.03       173\n",
      "          19       0.00      0.00      0.00       158\n",
      "          20       0.50      0.02      0.03       118\n",
      "          21       0.40      0.04      0.07       961\n",
      "          22       0.50      0.01      0.02        97\n",
      "          23       1.00      0.01      0.02        86\n",
      "          24       0.12      0.00      0.01       321\n",
      "          25       0.00      0.00      0.00        35\n",
      "          26       0.48      0.12      0.19       218\n",
      "          27       0.50      0.89      0.64     10734\n",
      "\n",
      "    accuracy                           0.49     21683\n",
      "   macro avg       0.27      0.06      0.08     21683\n",
      "weighted avg       0.44      0.49      0.39     21683\n",
      "\n",
      "Accuracy:  0.48969238573998064\n",
      "r2_Score:  -0.7991326829537058\n"
     ]
    }
   ],
   "source": [
    "print(\"Logistic Regression Model:\")\n",
    "from sklearn.metrics import accuracy_score, r2_score\n",
    "from sklearn.metrics import confusion_matrix\n",
    "from sklearn.metrics import classification_report\n",
    "print(confusion_matrix(y_test, lr_predictions))\n",
    "print(classification_report(y_test, lr_predictions))\n",
    "print(\"Accuracy: \", accuracy_score(y_test, lr_predictions))\n",
    "print(\"r2_Score: \", r2_score(y_test, lr_predictions))"
   ]
  },
  {
   "cell_type": "code",
   "execution_count": null,
   "id": "6a5dfe87-60b1-43cf-86a6-408c434ff417",
   "metadata": {},
   "outputs": [],
   "source": []
  },
  {
   "cell_type": "code",
   "execution_count": null,
   "id": "1320532d-2366-41c7-98d3-9184c882806c",
   "metadata": {},
   "outputs": [],
   "source": []
  },
  {
   "cell_type": "code",
   "execution_count": null,
   "id": "6e0fc0ce-4a0f-40bf-a32c-5912e9c504ae",
   "metadata": {},
   "outputs": [],
   "source": []
  }
 ],
 "metadata": {
  "kernelspec": {
   "display_name": "Python 3 (ipykernel)",
   "language": "python",
   "name": "python3"
  },
  "language_info": {
   "codemirror_mode": {
    "name": "ipython",
    "version": 3
   },
   "file_extension": ".py",
   "mimetype": "text/x-python",
   "name": "python",
   "nbconvert_exporter": "python",
   "pygments_lexer": "ipython3",
   "version": "3.13.0"
  }
 },
 "nbformat": 4,
 "nbformat_minor": 5
}
